{
 "cells": [
  {
   "cell_type": "code",
   "execution_count": 17,
   "metadata": {},
   "outputs": [
    {
     "name": "stdout",
     "output_type": "stream",
     "text": [
      "PassengerId : 0\n",
      "Survived : 0\n",
      "Pclass : 0\n",
      "Sex : 0\n",
      "Age : 0\n",
      "SibSp : 0\n",
      "Parch : 0\n",
      "Fare : 0\n",
      "Embarked : 0\n",
      "Title : 0\n"
     ]
    },
    {
     "data": {
      "image/png": "[encoded data removed]",
      "text/plain": [
       "<Figure size 432x216 with 2 Axes>"
      ]
     },
     "metadata": {
      "needs_background": "light"
     },
     "output_type": "display_data"
    }
   ],
   "source": [
    "# Import Dependencies:\n",
    "import pandas as pd\n",
    "import matplotlib.pyplot as plt\n",
    "import seaborn as sns\n",
    "\n",
    "\n",
    "\n",
    "\n",
    "\n",
    "\n",
    "\n",
    "# Creating The Data Frame\n",
    "df = pd.read_csv('train.csv')\n",
    "\n",
    "\n",
    "\n",
    "# Get Title Function\n",
    "def get_title(name):\n",
    "    if '.' in name:\n",
    "        return name.split(',')[1].split('.')[0].strip()\n",
    "\n",
    "    else:\n",
    "        return 'Unknown'\n",
    "    \n",
    "# Replace Titles Function:\n",
    "def replace_titles(x):\n",
    "    title = x['Title']\n",
    "\n",
    "    if title in ['Capt', 'Col', 'Major']:\n",
    "        return 'Officer'\n",
    "    \n",
    "    elif title in ['Jonkheer',\"Don\", \"the Countess\", \"Dona\", \"Lady\", \"Sir\"]:\n",
    "        return 'Royalty'\n",
    "    \n",
    "    elif title in [\"Mlle\", \"Ms\"]:\n",
    "        return 'Miss'\n",
    "\n",
    "    elif title == 'Mme':\n",
    "        return 'Mrs'\n",
    "\n",
    "    else:\n",
    "        return title\n",
    "    \n",
    "# Creating 'Title' Column:\n",
    "df['Title'] = df['Name'].map(lambda x: get_title(x))\n",
    "df['Title'] = df.apply(replace_titles, axis=1)\n",
    "\n",
    "# Filling The Null Values:\n",
    "df['Age'].fillna(df['Age'].median(), inplace=True)\n",
    "df['Fare'].fillna(df['Fare'].median(), inplace=True)\n",
    "df['Embarked'].fillna(\"S\", inplace=True)\n",
    "\n",
    "# Droping The UnNececery Columns:\n",
    "df.drop('Name', axis=1, inplace=True)\n",
    "df.drop('Cabin', axis=1, inplace=True)\n",
    "df.drop('Ticket', axis=1, inplace=True)\n",
    "\n",
    "# Converting The Remaining Data From String To Numeric:\n",
    "df.Sex.replace((\"male\", \"female\"), (0,1), inplace=True)\n",
    "df.Embarked.replace(('S', 'Q', 'C'), (0,1,3), inplace=True)\n",
    "df.Title.replace((\"Mr\", \"Miss\", \"Mrs\", \"Master\", \"Dr\", \"Rev\", \"Royalty\", \"Officer\"), (1,2,3,4,5,6,7,8), inplace=True)\n",
    "\n",
    "# Showing The Null Values:\n",
    "for column in df:\n",
    "    print(column, \":\", df[column].isnull().sum())\n",
    "\n",
    "\n",
    "# Creating A Graph With Seaborn And MatplotLib lib:\n",
    "graph = sns.FacetGrid(df, col=\"Survived\")\n",
    "graph.map(plt.hist, \"Age\", bins=20)\n",
    "\n",
    "# Droping Out Lying Datas:\n",
    "df.loc[df[\"Age\"] > 70, \"Age\"] = 70"
   ]
  }
 ],
 "metadata": {
  "kernelspec": {
   "display_name": "Python 3.10.4 64-bit",
   "language": "python",
   "name": "python3"
  },
  "language_info": {
   "codemirror_mode": {
    "name": "ipython",
    "version": 3
   },
   "file_extension": ".py",
   "mimetype": "text/x-python",
   "name": "python",
   "nbconvert_exporter": "python",
   "pygments_lexer": "ipython3",
   "version": "3.10.4"
  },
  "orig_nbformat": 4,
  "vscode": {
   "interpreter": {
    "hash": "6dcea7e4960f8530d84b97804b6ba4634d4d08c088c4746f3eb88446cf93a20a"
   }
  }
 },
 "nbformat": 4,
 "nbformat_minor": 2
}
